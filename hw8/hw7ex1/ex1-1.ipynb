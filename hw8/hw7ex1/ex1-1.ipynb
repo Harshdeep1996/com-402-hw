{
 "nbformat": 4,
 "nbformat_minor": 2,
 "metadata": {
  "language_info": {
   "name": "python",
   "codemirror_mode": {
    "name": "ipython",
    "version": 3
   },
   "version": "3.7.5"
  },
  "orig_nbformat": 2,
  "file_extension": ".py",
  "mimetype": "text/x-python",
  "name": "python",
  "npconvert_exporter": "python",
  "pygments_lexer": "ipython3",
  "version": 3
 },
 "cells": [
  {
   "source": [
    "merged = imdb_1.merge(com401_1, on=['date', 'rating'], how='inner')"
   ],
   "cell_type": "code",
   "outputs": [],
   "metadata": {},
   "execution_count": 10
  },
  {
   "source": [
    "hashed_trump_email = merged.loc[merged['email_x'] == 'donald.trump@whitehouse.gov', 'email_y'].iloc[0]"
   ],
   "cell_type": "code",
   "outputs": [],
   "metadata": {},
   "execution_count": 11
  },
  {
   "source": [
    "movies_hashes = (\n",
    "    merged.groupby(['movie_y', 'movie_x'])\n",
    "        .count()\n",
    "        .sort_values('email_x', ascending=False)\n",
    "        .groupby(level=0)\n",
    "        .head(1).reset_index()\n",
    ")"
   ],
   "cell_type": "code",
   "outputs": [],
   "metadata": {},
   "execution_count": 36
  },
  {
   "source": [
    "hashed_movies_watched_by_donald = com401_1[com401_1['email'] == hashed_trump_email]"
   ],
   "cell_type": "code",
   "outputs": [],
   "metadata": {},
   "execution_count": 37
  },
  {
   "source": [
    "movies_watched_by_donald = (\n",
    "    hashed_movies_watched_by_donald\n",
    "        .merge(movies_hashes, left_on=['movie'], right_on=['movie_y'])['movie_x'].drop_duplicates()\n",
    ")\n",
    "\n",
    "movies_watched_by_donald"
   ],
   "cell_type": "code",
   "outputs": [
    {
     "output_type": "execute_result",
     "data": {
      "text/plain": "0                    Pulp Fiction\n1    Once Upon a Time in the West\n2              North by Northwest\n3         Raiders of the Lost Ark\n4                   Seven Samurai\n5                    Modern Times\n6        The Shawshank Redemption\n7                     Tokyo Story\n8                 The Dark Knight\n9                    12 Angry Men\nName: movie_x, dtype: object"
     },
     "metadata": {},
     "execution_count": 40
    }
   ],
   "metadata": {},
   "execution_count": 40
  },
  {
   "cell_type": "code",
   "execution_count": null,
   "metadata": {},
   "outputs": [],
   "source": []
  },
  {
   "source": [
    "import pandas as pd\n",
    "com401_1 = pd.read_csv('hw8/hw7ex1/anon_data/com402-1.csv', header=None, names=['email', 'movie', 'date', 'rating'])\n",
    "imdb_1 = pd.read_csv('hw8/hw7ex1/anon_data/imdb-1.csv', header=None, names=['email', 'movie', 'date', 'rating'])"
   ],
   "cell_type": "code",
   "outputs": [],
   "metadata": {},
   "execution_count": 9
  }
 ]
}