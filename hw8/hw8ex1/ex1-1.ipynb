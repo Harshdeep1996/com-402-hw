{
 "cells": [
  {
   "cell_type": "code",
   "execution_count": 2,
   "metadata": {},
   "outputs": [],
   "source": [
    "import pandas as pd\n",
    "com401_1 = pd.read_csv('anon_data/com402-1.csv', header=None, names=['email', 'movie', 'date', 'rating'])\n",
    "imdb_1 = pd.read_csv('anon_data/imdb-1.csv', header=None, names=['email', 'movie', 'date', 'rating'])"
   ]
  },
  {
   "cell_type": "code",
   "execution_count": 3,
   "metadata": {},
   "outputs": [
    {
     "data": {
      "text/html": [
       "<div>\n",
       "<style scoped>\n",
       "    .dataframe tbody tr th:only-of-type {\n",
       "        vertical-align: middle;\n",
       "    }\n",
       "\n",
       "    .dataframe tbody tr th {\n",
       "        vertical-align: top;\n",
       "    }\n",
       "\n",
       "    .dataframe thead th {\n",
       "        text-align: right;\n",
       "    }\n",
       "</style>\n",
       "<table border=\"1\" class=\"dataframe\">\n",
       "  <thead>\n",
       "    <tr style=\"text-align: right;\">\n",
       "      <th></th>\n",
       "      <th>email_x</th>\n",
       "      <th>movie_x</th>\n",
       "      <th>date</th>\n",
       "      <th>rating</th>\n",
       "      <th>email_y</th>\n",
       "      <th>movie_y</th>\n",
       "    </tr>\n",
       "  </thead>\n",
       "  <tbody>\n",
       "    <tr>\n",
       "      <th>0</th>\n",
       "      <td>emile.adam-becker@epfl.ch</td>\n",
       "      <td>The Godfather</td>\n",
       "      <td>01/01/05</td>\n",
       "      <td>3</td>\n",
       "      <td>494efac1114ffdefce62052ef709c4285deb1df36bc3b8...</td>\n",
       "      <td>0587157b665e019b1b664b4f01b751058b4bd9d843d73d...</td>\n",
       "    </tr>\n",
       "    <tr>\n",
       "      <th>1</th>\n",
       "      <td>emile.adam-becker@epfl.ch</td>\n",
       "      <td>The Godfather</td>\n",
       "      <td>01/01/05</td>\n",
       "      <td>3</td>\n",
       "      <td>39d3e5e89fe262c39f0d35e5269c33a636b27f6744e879...</td>\n",
       "      <td>dbfa47ce2ccb1845d254e37997865f78d19c0630dedf68...</td>\n",
       "    </tr>\n",
       "    <tr>\n",
       "      <th>2</th>\n",
       "      <td>jacqueline.lebon-pascal@epfl.ch</td>\n",
       "      <td>12 Angry Men</td>\n",
       "      <td>01/01/05</td>\n",
       "      <td>3</td>\n",
       "      <td>494efac1114ffdefce62052ef709c4285deb1df36bc3b8...</td>\n",
       "      <td>0587157b665e019b1b664b4f01b751058b4bd9d843d73d...</td>\n",
       "    </tr>\n",
       "    <tr>\n",
       "      <th>3</th>\n",
       "      <td>jacqueline.lebon-pascal@epfl.ch</td>\n",
       "      <td>12 Angry Men</td>\n",
       "      <td>01/01/05</td>\n",
       "      <td>3</td>\n",
       "      <td>39d3e5e89fe262c39f0d35e5269c33a636b27f6744e879...</td>\n",
       "      <td>dbfa47ce2ccb1845d254e37997865f78d19c0630dedf68...</td>\n",
       "    </tr>\n",
       "    <tr>\n",
       "      <th>4</th>\n",
       "      <td>astrid.faivre@epfl.ch</td>\n",
       "      <td>The Godfather</td>\n",
       "      <td>01/01/10</td>\n",
       "      <td>2</td>\n",
       "      <td>cd024366841e6804a2f51d8128b4fa0052edd3f916a6ba...</td>\n",
       "      <td>0587157b665e019b1b664b4f01b751058b4bd9d843d73d...</td>\n",
       "    </tr>\n",
       "  </tbody>\n",
       "</table>\n",
       "</div>"
      ],
      "text/plain": [
       "                           email_x        movie_x      date  rating  \\\n",
       "0        emile.adam-becker@epfl.ch  The Godfather  01/01/05       3   \n",
       "1        emile.adam-becker@epfl.ch  The Godfather  01/01/05       3   \n",
       "2  jacqueline.lebon-pascal@epfl.ch   12 Angry Men  01/01/05       3   \n",
       "3  jacqueline.lebon-pascal@epfl.ch   12 Angry Men  01/01/05       3   \n",
       "4            astrid.faivre@epfl.ch  The Godfather  01/01/10       2   \n",
       "\n",
       "                                             email_y  \\\n",
       "0  494efac1114ffdefce62052ef709c4285deb1df36bc3b8...   \n",
       "1  39d3e5e89fe262c39f0d35e5269c33a636b27f6744e879...   \n",
       "2  494efac1114ffdefce62052ef709c4285deb1df36bc3b8...   \n",
       "3  39d3e5e89fe262c39f0d35e5269c33a636b27f6744e879...   \n",
       "4  cd024366841e6804a2f51d8128b4fa0052edd3f916a6ba...   \n",
       "\n",
       "                                             movie_y  \n",
       "0  0587157b665e019b1b664b4f01b751058b4bd9d843d73d...  \n",
       "1  dbfa47ce2ccb1845d254e37997865f78d19c0630dedf68...  \n",
       "2  0587157b665e019b1b664b4f01b751058b4bd9d843d73d...  \n",
       "3  dbfa47ce2ccb1845d254e37997865f78d19c0630dedf68...  \n",
       "4  0587157b665e019b1b664b4f01b751058b4bd9d843d73d...  "
      ]
     },
     "execution_count": 3,
     "metadata": {},
     "output_type": "execute_result"
    }
   ],
   "source": [
    "merged = imdb_1.merge(com401_1, on=['date', 'rating'], how='inner')\n",
    "\n",
    "merged.head()"
   ]
  },
  {
   "cell_type": "code",
   "execution_count": 11,
   "metadata": {},
   "outputs": [
    {
     "data": {
      "text/plain": [
       "'46e035a7ef72c29d60e621bbfa76c873491af5320892b86a5f2ad2ef0ef36746'"
      ]
     },
     "execution_count": 11,
     "metadata": {},
     "output_type": "execute_result"
    }
   ],
   "source": [
    "hashed_trump_email = merged.loc[merged['email_x'] == 'donald.trump@whitehouse.gov', 'email_y'].iloc[0]\n",
    "\n",
    "hashed_trump_email"
   ]
  },
  {
   "cell_type": "code",
   "execution_count": 8,
   "metadata": {},
   "outputs": [],
   "source": [
    "movies_hashes = (\n",
    "    merged.groupby(['movie_y', 'movie_x'])\n",
    "        .count()\n",
    "        .sort_values('email_x', ascending=False)\n",
    "        .groupby(level=0)\n",
    "        .head(1).reset_index()\n",
    ")"
   ]
  },
  {
   "cell_type": "code",
   "execution_count": 37,
   "metadata": {},
   "outputs": [],
   "source": [
    "hashed_movies_watched_by_donald = com401_1[com401_1['email'] == hashed_trump_email]"
   ]
  },
  {
   "cell_type": "code",
   "execution_count": 40,
   "metadata": {},
   "outputs": [
    {
     "data": {
      "text/plain": [
       "0                    Pulp Fiction\n",
       "1    Once Upon a Time in the West\n",
       "2              North by Northwest\n",
       "3         Raiders of the Lost Ark\n",
       "4                   Seven Samurai\n",
       "5                    Modern Times\n",
       "6        The Shawshank Redemption\n",
       "7                     Tokyo Story\n",
       "8                 The Dark Knight\n",
       "9                    12 Angry Men\n",
       "Name: movie_x, dtype: object"
      ]
     },
     "execution_count": 40,
     "metadata": {},
     "output_type": "execute_result"
    }
   ],
   "source": [
    "movies_watched_by_donald = (\n",
    "    hashed_movies_watched_by_donald\n",
    "        .merge(movies_hashes, left_on=['movie'], right_on=['movie_y'])['movie_x'].drop_duplicates()\n",
    ")\n",
    "\n",
    "movies_watched_by_donald"
   ]
  },
  {
   "cell_type": "code",
   "execution_count": null,
   "metadata": {},
   "outputs": [],
   "source": []
  }
 ],
 "metadata": {
  "file_extension": ".py",
  "kernelspec": {
   "display_name": "Python [conda env:ada] *",
   "language": "python",
   "name": "conda-env-ada-py"
  },
  "language_info": {
   "codemirror_mode": {
    "name": "ipython",
    "version": 3
   },
   "file_extension": ".py",
   "mimetype": "text/x-python",
   "name": "python",
   "nbconvert_exporter": "python",
   "pygments_lexer": "ipython3",
   "version": "3.7.5"
  },
  "mimetype": "text/x-python",
  "name": "python",
  "npconvert_exporter": "python",
  "pygments_lexer": "ipython3",
  "version": 3
 },
 "nbformat": 4,
 "nbformat_minor": 4
}
